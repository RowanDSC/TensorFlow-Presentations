{
  "nbformat": 4,
  "nbformat_minor": 0,
  "metadata": {
    "colab": {
      "name": "TensorFlow_One.ipynb",
      "provenance": [],
      "collapsed_sections": []
    },
    "kernelspec": {
      "name": "python3",
      "display_name": "Python 3"
    }
  },
  "cells": [
    {
      "cell_type": "markdown",
      "metadata": {
        "id": "iHwKiJtOH7pb"
      },
      "source": [
        "With the theory out of the way, let's see some code.\n",
        "\n",
        "Imports and a random seed for repeatable results:"
      ]
    },
    {
      "cell_type": "code",
      "metadata": {
        "id": "5Ni475K-IGbK"
      },
      "source": [
        "import numpy as np \n",
        "import tensorflow as tf \n",
        "import matplotlib.pyplot as plt \n",
        "\n",
        "#Make results repeatable\n",
        "np.random.seed(1) "
      ],
      "execution_count": 1,
      "outputs": []
    },
    {
      "cell_type": "markdown",
      "metadata": {
        "id": "dYCdvTeUIVZ1"
      },
      "source": [
        "Now let's make some fake data.\n",
        "Our line will be y = 2x + 0.9, with some noise.\n"
      ]
    },
    {
      "cell_type": "code",
      "metadata": {
        "colab": {
          "base_uri": "https://localhost:8080/",
          "height": 265
        },
        "id": "f0oCcf8QIaLU",
        "outputId": "8335891a-7baf-4a83-9901-e7c548c373af"
      },
      "source": [
        "NUM_EXAMPLES = 60\n",
        "\n",
        "#Fake line data\n",
        "X = np.linspace(0, 3, 60)\n",
        "Y = 2 * X + 0.9 + np.random.randn(*X.shape) * 0.3\n",
        "\n",
        "\n",
        "plt.scatter(X, Y) \n",
        "plt.show() \n",
        "#see how it is basically a line? But lots of variation."
      ],
      "execution_count": 3,
      "outputs": [
        {
          "output_type": "display_data",
          "data": {
            "image/png": "[encoded data removed]",
            "text/plain": [
              "<Figure size 432x288 with 1 Axes>"
            ]
          },
          "metadata": {
            "tags": [],
            "needs_background": "light"
          }
        }
      ]
    },
    {
      "cell_type": "markdown",
      "metadata": {
        "id": "ssa6agfGIgL2"
      },
      "source": [
        "For now, let's try and predict a slope (m) and a y-intercept (b)\n",
        "\n",
        "Let's initialize these as TF variables\n"
      ]
    },
    {
      "cell_type": "code",
      "metadata": {
        "colab": {
          "base_uri": "https://localhost:8080/"
        },
        "id": "oRQV3iNuI_g8",
        "outputId": "e943e9e7-0e1e-4efb-b609-34d734f18000"
      },
      "source": [
        "# define tensorflow variables, which marks them as changeable\n",
        "m = tf.Variable(0.5) \n",
        "b = tf.Variable(2.0) \n",
        "\n",
        "print(m)                    # note under the hood tf.variable type\n",
        "print(m.numpy(), b.numpy()) # numpy just takes the numerical component of the variable"
      ],
      "execution_count": 16,
      "outputs": [
        {
          "output_type": "stream",
          "text": [
            "<tf.Variable 'Variable:0' shape=() dtype=float32, numpy=0.5>\n",
            "0.5 2.0\n"
          ],
          "name": "stdout"
        }
      ]
    },
    {
      "cell_type": "code",
      "metadata": {
        "colab": {
          "base_uri": "https://localhost:8080/",
          "height": 265
        },
        "id": "fK2TQOJFJHVA",
        "outputId": "f1789ed8-2b31-4140-de21-282f3418670e"
      },
      "source": [
        "def plot():\n",
        "  line = m*X + b    # make our line\n",
        "\n",
        "  plt.scatter(X, Y) # plot training data\n",
        "  plt.plot(X, line) # plot our line\n",
        "\n",
        "  plt.show()\n",
        "\n",
        "plot()"
      ],
      "execution_count": 17,
      "outputs": [
        {
          "output_type": "display_data",
          "data": {
            "image/png": "[encoded data removed]",
            "text/plain": [
              "<Figure size 432x288 with 1 Axes>"
            ]
          },
          "metadata": {
            "tags": [],
            "needs_background": "light"
          }
        }
      ]
    },
    {
      "cell_type": "markdown",
      "metadata": {
        "id": "E59tyeaFJXoJ"
      },
      "source": [
        "Pretty bad, yeah?\n",
        "\n",
        "Let's train a neural network. First, we need to get those loss values so we can optimize them"
      ]
    },
    {
      "cell_type": "code",
      "metadata": {
        "colab": {
          "base_uri": "https://localhost:8080/"
        },
        "id": "btE833zxJjN0",
        "outputId": "dc7c1035-c89d-4f6a-8750-ee79c4b47c50"
      },
      "source": [
        "#Tape \"tapes\" all of the calculations in it's scope\n",
        "with tf.GradientTape(persistent=True) as tape:\n",
        "  y_pred = m*X + b\n",
        "\n",
        "  print('Predictions:', y_pred.numpy())\n",
        "  print('Truth:', Y)\n",
        "\n",
        "  loss = ((Y - y_pred) ** 2)\n",
        "  print('Loss:', loss.numpy())\n",
        "\n",
        "  loss = tf.reduce_sum(loss)\n",
        "  print('Loss Summed:', loss.numpy())\n",
        "\n",
        "  loss = loss / NUM_EXAMPLES\n",
        "  print('Loss Averaged:', loss.numpy())"
      ],
      "execution_count": 18,
      "outputs": [
        {
          "output_type": "stream",
          "text": [
            "Predictions: [2.        2.0254238 2.0508475 2.0762713 2.1016948 2.1271186 2.1525424\n",
            " 2.177966  2.20339   2.2288136 2.2542372 2.279661  2.3050847 2.3305085\n",
            " 2.3559322 2.381356  2.4067798 2.4322033 2.457627  2.4830508 2.5084746\n",
            " 2.5338984 2.559322  2.584746  2.6101694 2.6355932 2.661017  2.6864407\n",
            " 2.7118645 2.737288  2.762712  2.7881355 2.8135593 2.838983  2.8644068\n",
            " 2.8898306 2.915254  2.940678  2.9661016 2.9915254 3.0169492 3.0423727\n",
            " 3.0677967 3.0932202 3.1186442 3.1440678 3.1694915 3.1949153 3.2203388\n",
            " 3.2457628 3.2711864 3.29661   3.322034  3.3474576 3.3728814 3.398305\n",
            " 3.423729  3.4491525 3.4745762 3.5      ]\n",
            "Truth: [0.67368062 1.37755536 1.25726878 1.1156569  1.4533351  1.38580306\n",
            " 1.84965831 2.06780945 2.36923194 1.39630534 1.48371501 1.86730431\n",
            " 2.1683501  2.48488457 2.4184193  1.81876336 2.43525744 2.87720595\n",
            " 2.7995369  3.06080674 2.86719986 2.9753658  3.19325655 3.36199855\n",
            " 3.40016788 3.47807548 3.34286911 3.75903185 3.78400401 4.18799771\n",
            " 4.31052282 4.1080893  4.0416518  4.06431308 4.48467542 4.48252405\n",
            " 4.45786085 4.67579092 4.57840653 5.07551131 4.83365804 5.43684384\n",
            " 5.29223393 5.45095491 5.04610272 5.52708592 5.80013304 5.39355084\n",
            " 5.70149038 5.89283521 5.57281057 6.1809885  6.44198379 6.03197573\n",
            " 6.49668922 6.09953532 6.5833066  6.21187846 7.1347304  7.02267016]\n",
            "Loss: [1.75912333e+00 4.19733465e-01 6.29767239e-01 9.22780097e-01\n",
            " 4.20370400e-01 5.49548626e-01 9.17387828e-02 1.21345147e-02\n",
            " 2.75035873e-02 6.93070114e-01 5.93704343e-01 1.70037985e-01\n",
            " 1.86963193e-02 2.38319580e-02 3.90464091e-03 3.16510469e-01\n",
            " 8.10977595e-04 1.98027268e-01 1.16902366e-01 3.33801925e-01\n",
            " 1.28683850e-01 1.94893569e-01 4.01872933e-01 6.04121745e-01\n",
            " 6.24097705e-01 7.09776461e-01 4.64922279e-01 1.15045154e+00\n",
            " 1.14948308e+00 2.10455894e+00 2.39571905e+00 1.74227834e+00\n",
            " 1.50821102e+00 1.50143325e+00 2.62527037e+00 2.53667212e+00\n",
            " 2.37963581e+00 3.01061678e+00 2.59952641e+00 4.34299803e+00\n",
            " 3.30043173e+00 5.73349237e+00 4.94812107e+00 5.55891275e+00\n",
            " 3.71509552e+00 5.67877483e+00 6.92027569e+00 4.83399820e+00\n",
            " 6.15611315e+00 7.00699186e+00 5.29747438e+00 8.31963730e+00\n",
            " 9.73408699e+00 7.20663738e+00 9.75817585e+00 7.29664612e+00\n",
            " 9.98293209e+00 7.63265419e+00 1.33967285e+01 1.24092054e+01]\n",
            "Loss Summed: 184.36362\n",
            "Loss Averaged: 3.072727\n"
          ],
          "name": "stdout"
        }
      ]
    },
    {
      "cell_type": "markdown",
      "metadata": {
        "id": "7-RPv21LJsH2"
      },
      "source": [
        "We need to find the gradient with respect to loss. Don't worry, external libraries handle this for us."
      ]
    },
    {
      "cell_type": "code",
      "metadata": {
        "colab": {
          "base_uri": "https://localhost:8080/"
        },
        "id": "ZwpCD0ObJ2QM",
        "outputId": "e714d1d9-a1ac-4f22-c9de-5fa845582a93"
      },
      "source": [
        "#calculate gradients with respect to loss\n",
        "dLdm = tape.gradient(loss, m)\n",
        "dLdb = tape.gradient(loss, b)\n",
        "print(dLdm.numpy(), dLdb.numpy())"
      ],
      "execution_count": 19,
      "outputs": [
        {
          "output_type": "stream",
          "text": [
            "-5.766345 -2.3380442\n"
          ],
          "name": "stdout"
        }
      ]
    },
    {
      "cell_type": "markdown",
      "metadata": {
        "id": "r7kXWchuKE3h"
      },
      "source": [
        "Then update the values using those gradients."
      ]
    },
    {
      "cell_type": "code",
      "metadata": {
        "colab": {
          "base_uri": "https://localhost:8080/",
          "height": 282
        },
        "id": "A2XFodNFKIt0",
        "outputId": "3862f9da-1f16-4f90-db09-ed3edc463de6"
      },
      "source": [
        "LEARNING_RATE = 0.08\n",
        "\n",
        "#Update the weights!\n",
        "\n",
        "m.assign_sub(LEARNING_RATE * dLdm) # This is also known as gradient descent\n",
        "b.assign_sub(LEARNING_RATE * dLdb)\n",
        "\n",
        "print(m.numpy(), b.numpy())\n",
        "plot()"
      ],
      "execution_count": 20,
      "outputs": [
        {
          "output_type": "stream",
          "text": [
            "0.9613076 2.1870434\n"
          ],
          "name": "stdout"
        },
        {
          "output_type": "display_data",
          "data": {
            "image/png": "[encoded data removed]",
            "text/plain": [
              "<Figure size 432x288 with 1 Axes>"
            ]
          },
          "metadata": {
            "tags": [],
            "needs_background": "light"
          }
        }
      ]
    },
    {
      "cell_type": "markdown",
      "metadata": {
        "id": "85BtU30mKJit"
      },
      "source": [
        "Keep clicking through those cells.\n",
        "Slightly better each time right? \n",
        "You're iterating back-propagation!\n",
        "Let's streamline that process by wrapping everything in a function, and doing it many times."
      ]
    },
    {
      "cell_type": "code",
      "metadata": {
        "colab": {
          "base_uri": "https://localhost:8080/",
          "height": 673
        },
        "id": "kvaAAjk5KU2a",
        "outputId": "df1f3b23-fecf-4e0f-c128-d305bdc47d5c"
      },
      "source": [
        "def train_step():\n",
        "  with tf.GradientTape(persistent=True) as tape:\n",
        "    y_pred = m*X + b\n",
        "    loss = ((Y - y_pred) ** 2)\n",
        "    loss = tf.reduce_sum(loss)\n",
        "    loss = loss / NUM_EXAMPLES\n",
        "  \n",
        "\n",
        "  m_gradient = tape.gradient(loss, m)\n",
        "  b_gradient = tape.gradient(loss, b)\n",
        "\n",
        "  LEARNING_RATE = 0.08\n",
        "  \n",
        "  m.assign_sub(LEARNING_RATE * m_gradient) \n",
        "  b.assign_sub(LEARNING_RATE * b_gradient)\n",
        "  return m.numpy(), b.numpy()\n",
        "\n",
        "EPOCHS = 80\n",
        "for i in range(EPOCHS):\n",
        "  mp, bp = train_step()\n",
        "  if i%10 == 0: #Only want a few prints to get the point across\n",
        "      print(\n",
        "      f'Epoch:  {i}\\n'\n",
        "      f'Loss: {loss.numpy()}\\n'\n",
        "      f'y = {mp:.2f}x + {bp:.2f}'\n",
        "    )\n",
        "  train_step()\n",
        "plot()"
      ],
      "execution_count": 23,
      "outputs": [
        {
          "output_type": "stream",
          "text": [
            "Epoch:  0\n",
            "Loss: 3.0727269649505615\n",
            "y = 1.92x + 1.08\n",
            "Epoch:  10\n",
            "Loss: 3.0727269649505615\n",
            "y = 1.97x + 1.01\n",
            "Epoch:  20\n",
            "Loss: 3.0727269649505615\n",
            "y = 1.98x + 0.98\n",
            "Epoch:  30\n",
            "Loss: 3.0727269649505615\n",
            "y = 1.99x + 0.96\n",
            "Epoch:  40\n",
            "Loss: 3.0727269649505615\n",
            "y = 2.00x + 0.95\n",
            "Epoch:  50\n",
            "Loss: 3.0727269649505615\n",
            "y = 2.00x + 0.94\n",
            "Epoch:  60\n",
            "Loss: 3.0727269649505615\n",
            "y = 2.00x + 0.94\n",
            "Epoch:  70\n",
            "Loss: 3.0727269649505615\n",
            "y = 2.00x + 0.94\n"
          ],
          "name": "stdout"
        },
        {
          "output_type": "display_data",
          "data": {
            "image/png": "[encoded data removed]",
            "text/plain": [
              "<Figure size 432x288 with 1 Axes>"
            ]
          },
          "metadata": {
            "tags": [],
            "needs_background": "light"
          }
        }
      ]
    },
    {
      "cell_type": "markdown",
      "metadata": {
        "id": "PGDCIqaqKv1q"
      },
      "source": [
        "How's that? In this case, we did everything from scratch, and forced the network to approximate a slope and y-intercept. It doesn't have to do that though, we could just give it the points and let layers worry about why this function behaves the way it does. Neural networks can approximate *anything*, that's what makes them so ubiquitous. In the following example, we do everything from here, but with keras and the \"predict\" function."
      ]
    },
    {
      "cell_type": "code",
      "metadata": {
        "colab": {
          "base_uri": "https://localhost:8080/",
          "height": 1000
        },
        "id": "JcYCg1yqLVbq",
        "outputId": "64ad49d4-a0e7-40ca-8659-23e26829df41"
      },
      "source": [
        "import keras\n",
        "\n",
        "#Same data\n",
        "NUM_EXAMPLES = 60\n",
        "\n",
        "#Fake line data\n",
        "X = np.linspace(0, 3, 60)\n",
        "Y = 2 * X + 0.9 + np.random.randn(*X.shape) * 0.3\n",
        "\n",
        "def make_linreg_model(data_X, data_Y):\n",
        "    model = keras.Sequential([\n",
        "        keras.layers.Dense(64, activation=tf.nn.relu, input_shape=[1]),\n",
        "        keras.layers.Dense(64, activation=tf.nn.relu),\n",
        "        keras.layers.Dense(1)\n",
        "    ])\n",
        "\n",
        "    optimizer = tf.keras.optimizers.Adam(0.08)#This takes in our \"Learning rate\" from before\n",
        "\n",
        "    model.compile(loss='mean_squared_error',\n",
        "                    optimizer=optimizer,\n",
        "                    metrics=['mean_absolute_error', 'mean_squared_error'])\n",
        "\n",
        "    results = model.fit(X, Y, epochs=100, batch_size=60)\n",
        "    return model\n",
        "\n",
        "model = make_linreg_model(X, Y)\n",
        "\n",
        "\n",
        "print(\"Model Thinks f(70) =\", model.predict([70])[0][0])\n",
        "\n",
        "print(\"\\nPlotting the line keras thinks it knows:\")\n",
        "y_preds = []\n",
        "for i in range(len(X)):\n",
        "    pred = model.predict([X[i]])[0][0]\n",
        "    y_preds.append(pred)\n",
        "    if i%10==0: #Again, prettier printing\n",
        "        print(\"Real: y = \" + str(2.0) + \n",
        "        \"(\"+str(round(X[i], 2))+\")\" + \"+ 0.9\" \n",
        "        + \" ~ \" + str(round(Y[i],2)), \"Predicted: \" + str(pred))\n",
        "plt.clf()\n",
        "plt.scatter(X, Y)\n",
        "plt.plot(X, y_preds)\n",
        "plt.show()\n",
        "'''\n",
        "Why such an obtuse way to show? Get used to the idea of \"accuracy\"\n",
        "'''\n",
        "accuracy = 1 - np.average([np.abs((y_preds[i] - Y[i])/Y[i]) for i in range(len(X))])\n",
        "print(\"Accuracy\", accuracy)\n"
      ],
      "execution_count": 24,
      "outputs": [
        {
          "output_type": "stream",
          "text": [
            "Epoch 1/100\n",
            "1/1 [==============================] - 0s 1ms/step - loss: 18.3834 - mean_absolute_error: 3.9156 - mean_squared_error: 18.3834\n",
            "Epoch 2/100\n",
            "1/1 [==============================] - 0s 2ms/step - loss: 1.1568 - mean_absolute_error: 0.8620 - mean_squared_error: 1.1568\n",
            "Epoch 3/100\n",
            "1/1 [==============================] - 0s 2ms/step - loss: 0.1081 - mean_absolute_error: 0.2666 - mean_squared_error: 0.1081\n",
            "Epoch 4/100\n",
            "1/1 [==============================] - 0s 5ms/step - loss: 0.1800 - mean_absolute_error: 0.3352 - mean_squared_error: 0.1800\n",
            "Epoch 5/100\n",
            "1/1 [==============================] - 0s 1ms/step - loss: 0.2764 - mean_absolute_error: 0.4459 - mean_squared_error: 0.2764\n",
            "Epoch 6/100\n",
            "1/1 [==============================] - 0s 2ms/step - loss: 0.1180 - mean_absolute_error: 0.2784 - mean_squared_error: 0.1180\n",
            "Epoch 7/100\n",
            "1/1 [==============================] - 0s 1ms/step - loss: 0.2840 - mean_absolute_error: 0.4254 - mean_squared_error: 0.2840\n",
            "Epoch 8/100\n",
            "1/1 [==============================] - 0s 1ms/step - loss: 0.1238 - mean_absolute_error: 0.2843 - mean_squared_error: 0.1238\n",
            "Epoch 9/100\n",
            "1/1 [==============================] - 0s 5ms/step - loss: 0.2195 - mean_absolute_error: 0.3948 - mean_squared_error: 0.2195\n",
            "Epoch 10/100\n",
            "1/1 [==============================] - 0s 3ms/step - loss: 0.1203 - mean_absolute_error: 0.2814 - mean_squared_error: 0.1203\n",
            "Epoch 11/100\n",
            "1/1 [==============================] - 0s 1ms/step - loss: 0.1725 - mean_absolute_error: 0.3329 - mean_squared_error: 0.1725\n",
            "Epoch 12/100\n",
            "1/1 [==============================] - 0s 2ms/step - loss: 0.1147 - mean_absolute_error: 0.2761 - mean_squared_error: 0.1147\n",
            "Epoch 13/100\n",
            "1/1 [==============================] - 0s 2ms/step - loss: 0.1533 - mean_absolute_error: 0.3208 - mean_squared_error: 0.1533\n",
            "Epoch 14/100\n",
            "1/1 [==============================] - 0s 2ms/step - loss: 0.1264 - mean_absolute_error: 0.2851 - mean_squared_error: 0.1264\n",
            "Epoch 15/100\n",
            "1/1 [==============================] - 0s 2ms/step - loss: 0.1113 - mean_absolute_error: 0.2714 - mean_squared_error: 0.1113\n",
            "Epoch 16/100\n",
            "1/1 [==============================] - 0s 2ms/step - loss: 0.1285 - mean_absolute_error: 0.2959 - mean_squared_error: 0.1285\n",
            "Epoch 17/100\n",
            "1/1 [==============================] - 0s 2ms/step - loss: 0.1011 - mean_absolute_error: 0.2623 - mean_squared_error: 0.1011\n",
            "Epoch 18/100\n",
            "1/1 [==============================] - 0s 2ms/step - loss: 0.1219 - mean_absolute_error: 0.2765 - mean_squared_error: 0.1219\n",
            "Epoch 19/100\n",
            "1/1 [==============================] - 0s 2ms/step - loss: 0.1026 - mean_absolute_error: 0.2652 - mean_squared_error: 0.1026\n",
            "Epoch 20/100\n",
            "1/1 [==============================] - 0s 2ms/step - loss: 0.1149 - mean_absolute_error: 0.2809 - mean_squared_error: 0.1149\n",
            "Epoch 21/100\n",
            "1/1 [==============================] - 0s 2ms/step - loss: 0.1074 - mean_absolute_error: 0.2646 - mean_squared_error: 0.1074\n",
            "Epoch 22/100\n",
            "1/1 [==============================] - 0s 2ms/step - loss: 0.1101 - mean_absolute_error: 0.2680 - mean_squared_error: 0.1101\n",
            "Epoch 23/100\n",
            "1/1 [==============================] - 0s 2ms/step - loss: 0.1106 - mean_absolute_error: 0.2763 - mean_squared_error: 0.1106\n",
            "Epoch 24/100\n",
            "1/1 [==============================] - 0s 3ms/step - loss: 0.1059 - mean_absolute_error: 0.2705 - mean_squared_error: 0.1059\n",
            "Epoch 25/100\n",
            "1/1 [==============================] - 0s 3ms/step - loss: 0.1120 - mean_absolute_error: 0.2704 - mean_squared_error: 0.1120\n",
            "Epoch 26/100\n",
            "1/1 [==============================] - 0s 3ms/step - loss: 0.1034 - mean_absolute_error: 0.2645 - mean_squared_error: 0.1034\n",
            "Epoch 27/100\n",
            "1/1 [==============================] - 0s 3ms/step - loss: 0.1111 - mean_absolute_error: 0.2758 - mean_squared_error: 0.1111\n",
            "Epoch 28/100\n",
            "1/1 [==============================] - 0s 3ms/step - loss: 0.1021 - mean_absolute_error: 0.2627 - mean_squared_error: 0.1021\n",
            "Epoch 29/100\n",
            "1/1 [==============================] - 0s 2ms/step - loss: 0.1084 - mean_absolute_error: 0.2660 - mean_squared_error: 0.1084\n",
            "Epoch 30/100\n",
            "1/1 [==============================] - 0s 2ms/step - loss: 0.1027 - mean_absolute_error: 0.2628 - mean_squared_error: 0.1027\n",
            "Epoch 31/100\n",
            "1/1 [==============================] - 0s 3ms/step - loss: 0.1052 - mean_absolute_error: 0.2671 - mean_squared_error: 0.1052\n",
            "Epoch 32/100\n",
            "1/1 [==============================] - 0s 2ms/step - loss: 0.1044 - mean_absolute_error: 0.2617 - mean_squared_error: 0.1044\n",
            "Epoch 33/100\n",
            "1/1 [==============================] - 0s 2ms/step - loss: 0.1022 - mean_absolute_error: 0.2600 - mean_squared_error: 0.1022\n",
            "Epoch 34/100\n",
            "1/1 [==============================] - 0s 3ms/step - loss: 0.1055 - mean_absolute_error: 0.2675 - mean_squared_error: 0.1055\n",
            "Epoch 35/100\n",
            "1/1 [==============================] - 0s 2ms/step - loss: 0.1007 - mean_absolute_error: 0.2599 - mean_squared_error: 0.1007\n",
            "Epoch 36/100\n",
            "1/1 [==============================] - 0s 3ms/step - loss: 0.1038 - mean_absolute_error: 0.2610 - mean_squared_error: 0.1038\n",
            "Epoch 37/100\n",
            "1/1 [==============================] - 0s 2ms/step - loss: 0.1013 - mean_absolute_error: 0.2607 - mean_squared_error: 0.1013\n",
            "Epoch 38/100\n",
            "1/1 [==============================] - 0s 3ms/step - loss: 0.1010 - mean_absolute_error: 0.2603 - mean_squared_error: 0.1010\n",
            "Epoch 39/100\n",
            "1/1 [==============================] - 0s 2ms/step - loss: 0.1021 - mean_absolute_error: 0.2582 - mean_squared_error: 0.1021\n",
            "Epoch 40/100\n",
            "1/1 [==============================] - 0s 8ms/step - loss: 0.0992 - mean_absolute_error: 0.2580 - mean_squared_error: 0.0992\n",
            "Epoch 41/100\n",
            "1/1 [==============================] - 0s 3ms/step - loss: 0.1011 - mean_absolute_error: 0.2613 - mean_squared_error: 0.1011\n",
            "Epoch 42/100\n",
            "1/1 [==============================] - 0s 2ms/step - loss: 0.0997 - mean_absolute_error: 0.2571 - mean_squared_error: 0.0997\n",
            "Epoch 43/100\n",
            "1/1 [==============================] - 0s 2ms/step - loss: 0.0992 - mean_absolute_error: 0.2574 - mean_squared_error: 0.0992\n",
            "Epoch 44/100\n",
            "1/1 [==============================] - 0s 3ms/step - loss: 0.1008 - mean_absolute_error: 0.2613 - mean_squared_error: 0.1008\n",
            "Epoch 45/100\n",
            "1/1 [==============================] - 0s 2ms/step - loss: 0.0993 - mean_absolute_error: 0.2579 - mean_squared_error: 0.0993\n",
            "Epoch 46/100\n",
            "1/1 [==============================] - 0s 3ms/step - loss: 0.0997 - mean_absolute_error: 0.2579 - mean_squared_error: 0.0997\n",
            "Epoch 47/100\n",
            "1/1 [==============================] - 0s 2ms/step - loss: 0.1004 - mean_absolute_error: 0.2602 - mean_squared_error: 0.1004\n",
            "Epoch 48/100\n",
            "1/1 [==============================] - 0s 3ms/step - loss: 0.0990 - mean_absolute_error: 0.2577 - mean_squared_error: 0.0990\n",
            "Epoch 49/100\n",
            "1/1 [==============================] - 0s 3ms/step - loss: 0.0995 - mean_absolute_error: 0.2575 - mean_squared_error: 0.0995\n",
            "Epoch 50/100\n",
            "1/1 [==============================] - 0s 2ms/step - loss: 0.0998 - mean_absolute_error: 0.2589 - mean_squared_error: 0.0998\n",
            "Epoch 51/100\n",
            "1/1 [==============================] - 0s 4ms/step - loss: 0.0987 - mean_absolute_error: 0.2573 - mean_squared_error: 0.0987\n",
            "Epoch 52/100\n",
            "1/1 [==============================] - 0s 3ms/step - loss: 0.0990 - mean_absolute_error: 0.2569 - mean_squared_error: 0.0990\n",
            "Epoch 53/100\n",
            "1/1 [==============================] - 0s 3ms/step - loss: 0.0992 - mean_absolute_error: 0.2578 - mean_squared_error: 0.0992\n",
            "Epoch 54/100\n",
            "1/1 [==============================] - 0s 3ms/step - loss: 0.0984 - mean_absolute_error: 0.2567 - mean_squared_error: 0.0984\n",
            "Epoch 55/100\n",
            "1/1 [==============================] - 0s 2ms/step - loss: 0.0985 - mean_absolute_error: 0.2566 - mean_squared_error: 0.0985\n",
            "Epoch 56/100\n",
            "1/1 [==============================] - 0s 2ms/step - loss: 0.0990 - mean_absolute_error: 0.2574 - mean_squared_error: 0.0990\n",
            "Epoch 57/100\n",
            "1/1 [==============================] - 0s 2ms/step - loss: 0.0986 - mean_absolute_error: 0.2566 - mean_squared_error: 0.0986\n",
            "Epoch 58/100\n",
            "1/1 [==============================] - 0s 2ms/step - loss: 0.0984 - mean_absolute_error: 0.2567 - mean_squared_error: 0.0984\n",
            "Epoch 59/100\n",
            "1/1 [==============================] - 0s 3ms/step - loss: 0.0988 - mean_absolute_error: 0.2571 - mean_squared_error: 0.0988\n",
            "Epoch 60/100\n",
            "1/1 [==============================] - 0s 2ms/step - loss: 0.0987 - mean_absolute_error: 0.2565 - mean_squared_error: 0.0987\n",
            "Epoch 61/100\n",
            "1/1 [==============================] - 0s 3ms/step - loss: 0.0983 - mean_absolute_error: 0.2568 - mean_squared_error: 0.0983\n",
            "Epoch 62/100\n",
            "1/1 [==============================] - 0s 2ms/step - loss: 0.0983 - mean_absolute_error: 0.2568 - mean_squared_error: 0.0983\n",
            "Epoch 63/100\n",
            "1/1 [==============================] - 0s 2ms/step - loss: 0.0985 - mean_absolute_error: 0.2564 - mean_squared_error: 0.0985\n",
            "Epoch 64/100\n",
            "1/1 [==============================] - 0s 2ms/step - loss: 0.0983 - mean_absolute_error: 0.2568 - mean_squared_error: 0.0983\n",
            "Epoch 65/100\n",
            "1/1 [==============================] - 0s 3ms/step - loss: 0.0981 - mean_absolute_error: 0.2566 - mean_squared_error: 0.0981\n",
            "Epoch 66/100\n",
            "1/1 [==============================] - 0s 1ms/step - loss: 0.0982 - mean_absolute_error: 0.2565 - mean_squared_error: 0.0982\n",
            "Epoch 67/100\n",
            "1/1 [==============================] - 0s 3ms/step - loss: 0.0984 - mean_absolute_error: 0.2568 - mean_squared_error: 0.0984\n",
            "Epoch 68/100\n",
            "1/1 [==============================] - 0s 3ms/step - loss: 0.0983 - mean_absolute_error: 0.2563 - mean_squared_error: 0.0983\n",
            "Epoch 69/100\n",
            "1/1 [==============================] - 0s 3ms/step - loss: 0.0981 - mean_absolute_error: 0.2566 - mean_squared_error: 0.0981\n",
            "Epoch 70/100\n",
            "1/1 [==============================] - 0s 2ms/step - loss: 0.0980 - mean_absolute_error: 0.2565 - mean_squared_error: 0.0980\n",
            "Epoch 71/100\n",
            "1/1 [==============================] - 0s 3ms/step - loss: 0.0981 - mean_absolute_error: 0.2562 - mean_squared_error: 0.0981\n",
            "Epoch 72/100\n",
            "1/1 [==============================] - 0s 3ms/step - loss: 0.0981 - mean_absolute_error: 0.2565 - mean_squared_error: 0.0981\n",
            "Epoch 73/100\n",
            "1/1 [==============================] - 0s 2ms/step - loss: 0.0980 - mean_absolute_error: 0.2562 - mean_squared_error: 0.0980\n",
            "Epoch 74/100\n",
            "1/1 [==============================] - 0s 2ms/step - loss: 0.0979 - mean_absolute_error: 0.2563 - mean_squared_error: 0.0979\n",
            "Epoch 75/100\n",
            "1/1 [==============================] - 0s 2ms/step - loss: 0.0979 - mean_absolute_error: 0.2563 - mean_squared_error: 0.0979\n",
            "Epoch 76/100\n",
            "1/1 [==============================] - 0s 3ms/step - loss: 0.0980 - mean_absolute_error: 0.2561 - mean_squared_error: 0.0980\n",
            "Epoch 77/100\n",
            "1/1 [==============================] - 0s 2ms/step - loss: 0.0980 - mean_absolute_error: 0.2564 - mean_squared_error: 0.0980\n",
            "Epoch 78/100\n",
            "1/1 [==============================] - 0s 3ms/step - loss: 0.0980 - mean_absolute_error: 0.2560 - mean_squared_error: 0.0980\n",
            "Epoch 79/100\n",
            "1/1 [==============================] - 0s 2ms/step - loss: 0.0979 - mean_absolute_error: 0.2563 - mean_squared_error: 0.0979\n",
            "Epoch 80/100\n",
            "1/1 [==============================] - 0s 2ms/step - loss: 0.0978 - mean_absolute_error: 0.2561 - mean_squared_error: 0.0978\n",
            "Epoch 81/100\n",
            "1/1 [==============================] - 0s 4ms/step - loss: 0.0978 - mean_absolute_error: 0.2561 - mean_squared_error: 0.0978\n",
            "Epoch 82/100\n",
            "1/1 [==============================] - 0s 2ms/step - loss: 0.0978 - mean_absolute_error: 0.2561 - mean_squared_error: 0.0978\n",
            "Epoch 83/100\n",
            "1/1 [==============================] - 0s 2ms/step - loss: 0.0978 - mean_absolute_error: 0.2559 - mean_squared_error: 0.0978\n",
            "Epoch 84/100\n",
            "1/1 [==============================] - 0s 4ms/step - loss: 0.0978 - mean_absolute_error: 0.2560 - mean_squared_error: 0.0978\n",
            "Epoch 85/100\n",
            "1/1 [==============================] - 0s 4ms/step - loss: 0.0978 - mean_absolute_error: 0.2557 - mean_squared_error: 0.0978\n",
            "Epoch 86/100\n",
            "1/1 [==============================] - 0s 2ms/step - loss: 0.0978 - mean_absolute_error: 0.2559 - mean_squared_error: 0.0978\n",
            "Epoch 87/100\n",
            "1/1 [==============================] - 0s 2ms/step - loss: 0.0978 - mean_absolute_error: 0.2556 - mean_squared_error: 0.0978\n",
            "Epoch 88/100\n",
            "1/1 [==============================] - 0s 2ms/step - loss: 0.0978 - mean_absolute_error: 0.2559 - mean_squared_error: 0.0978\n",
            "Epoch 89/100\n",
            "1/1 [==============================] - 0s 2ms/step - loss: 0.0978 - mean_absolute_error: 0.2555 - mean_squared_error: 0.0978\n",
            "Epoch 90/100\n",
            "1/1 [==============================] - 0s 2ms/step - loss: 0.0978 - mean_absolute_error: 0.2558 - mean_squared_error: 0.0978\n",
            "Epoch 91/100\n",
            "1/1 [==============================] - 0s 2ms/step - loss: 0.0979 - mean_absolute_error: 0.2553 - mean_squared_error: 0.0979\n",
            "Epoch 92/100\n",
            "1/1 [==============================] - 0s 2ms/step - loss: 0.0981 - mean_absolute_error: 0.2563 - mean_squared_error: 0.0981\n",
            "Epoch 93/100\n",
            "1/1 [==============================] - 0s 2ms/step - loss: 0.0986 - mean_absolute_error: 0.2554 - mean_squared_error: 0.0986\n",
            "Epoch 94/100\n",
            "1/1 [==============================] - 0s 2ms/step - loss: 0.0995 - mean_absolute_error: 0.2587 - mean_squared_error: 0.0995\n",
            "Epoch 95/100\n",
            "1/1 [==============================] - 0s 2ms/step - loss: 0.1015 - mean_absolute_error: 0.2582 - mean_squared_error: 0.1015\n",
            "Epoch 96/100\n",
            "1/1 [==============================] - 0s 2ms/step - loss: 0.1056 - mean_absolute_error: 0.2676 - mean_squared_error: 0.1056\n",
            "Epoch 97/100\n",
            "1/1 [==============================] - 0s 2ms/step - loss: 0.1152 - mean_absolute_error: 0.2703 - mean_squared_error: 0.1152\n",
            "Epoch 98/100\n",
            "1/1 [==============================] - 0s 3ms/step - loss: 0.1326 - mean_absolute_error: 0.2972 - mean_squared_error: 0.1326\n",
            "Epoch 99/100\n",
            "1/1 [==============================] - 0s 2ms/step - loss: 0.1705 - mean_absolute_error: 0.3265 - mean_squared_error: 0.1705\n",
            "Epoch 100/100\n",
            "1/1 [==============================] - 0s 3ms/step - loss: 0.1980 - mean_absolute_error: 0.3577 - mean_squared_error: 0.1980\n",
            "Model Thinks f(70) = 129.94922\n",
            "\n",
            "Plotting the line keras thinks it knows:\n",
            "Real: y = 2.0(0.0)+ 0.9 ~ 0.52 Predicted: 0.9263171\n",
            "Real: y = 2.0(0.51)+ 0.9 ~ 2.27 Predicted: 1.8479346\n",
            "Real: y = 2.0(1.02)+ 0.9 ~ 2.81 Predicted: 2.7391272\n",
            "Real: y = 2.0(1.53)+ 0.9 ~ 3.85 Predicted: 3.6294665\n",
            "Real: y = 2.0(2.03)+ 0.9 ~ 5.45 Predicted: 4.572044\n",
            "Real: y = 2.0(2.54)+ 0.9 ~ 6.06 Predicted: 5.5146213\n"
          ],
          "name": "stdout"
        },
        {
          "output_type": "display_data",
          "data": {
            "image/png": "[encoded data removed]",
            "text/plain": [
              "<Figure size 432x288 with 1 Axes>"
            ]
          },
          "metadata": {
            "tags": [],
            "needs_background": "light"
          }
        },
        {
          "output_type": "stream",
          "text": [
            "Accuracy 0.892032081150546\n"
          ],
          "name": "stdout"
        }
      ]
    },
    {
      "cell_type": "markdown",
      "metadata": {
        "id": "yfBtTDdbLhtG"
      },
      "source": [
        "Here, that line is not defined by a predicted slope, rather by a series of inputs and outputs. Try adding more noise and seeing how it looks.\n",
        "\n",
        "Now, we're going to move into more complicated approximations like images"
      ]
    }
  ]
}
