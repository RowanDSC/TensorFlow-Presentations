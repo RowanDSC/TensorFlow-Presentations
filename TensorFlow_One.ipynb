{
  "nbformat": 4,
  "nbformat_minor": 0,
  "metadata": {
    "colab": {
      "name": "TensorFlow_One.ipynb",
      "provenance": [],
      "collapsed_sections": []
    },
    "kernelspec": {
      "name": "python3",
      "display_name": "Python 3"
    }
  },
  "cells": [
    {
      "cell_type": "code",
      "metadata": {
        "id": "TXR88sOYqjf0",
        "colab": {
          "base_uri": "https://localhost:8080/",
          "height": 265
        },
        "outputId": "b7ef75ee-5356-4099-9428-c7ce29cd3840"
      },
      "source": [
        "#The process is basically the same if you consider a neural network.\n",
        "import numpy as np \n",
        "import tensorflow as tf \n",
        "import matplotlib.pyplot as plt \n",
        "#Make results repeatable\n",
        "np.random.seed(1) \n",
        "\n",
        "\n",
        "M = 2\n",
        "B = 0.9\n",
        "\n",
        "NUM_EXAMPLES = 60\n",
        "X = np.linspace(0, 3, NUM_EXAMPLES)\n",
        "noise = np.random.randn(*x.shape) * 0.3\n",
        "Y = M*X + B + noise\n",
        "\n",
        "#I made the code LOOK like y=mx+b-- the equation is a noisy y = 2x + 0.9\n",
        "#Let's see if we can get a model to predict that!\n",
        "\n",
        "plt.scatter(X, Y) \n",
        "plt.show() \n",
        "#see how it is basically a line? But lots of variation."
      ],
      "execution_count": null,
      "outputs": [
        {
          "output_type": "display_data",
          "data": {
            "image/png": "[encoded data removed]",
            "text/plain": [
              "<Figure size 432x288 with 1 Axes>"
            ]
          },
          "metadata": {
            "tags": [],
            "needs_background": "light"
          }
        }
      ]
    },
    {
      "cell_type": "code",
      "metadata": {
        "colab": {
          "base_uri": "https://localhost:8080/"
        },
        "id": "1h-yuOQshSZA",
        "outputId": "f764adae-b45e-4098-e0e9-f6f27dfe8a6e"
      },
      "source": [
        "# define tensorflow variables, which marks them as changeable\n",
        "m = tf.Variable(0.5) \n",
        "b = tf.Variable(2.0) \n",
        "\n",
        "print(m)                    # note under the hood tf.variable type\n",
        "print(m.numpy(), b.numpy()) # numpy just takes the numerical component of the variable"
      ],
      "execution_count": null,
      "outputs": [
        {
          "output_type": "stream",
          "text": [
            "<tf.Variable 'Variable:0' shape=() dtype=float32, numpy=0.5>\n",
            "0.5 2.0\n"
          ],
          "name": "stdout"
        }
      ]
    },
    {
      "cell_type": "code",
      "metadata": {
        "id": "nUuJSpGoXXZc"
      },
      "source": [
        ""
      ],
      "execution_count": null,
      "outputs": []
    },
    {
      "cell_type": "code",
      "metadata": {
        "colab": {
          "base_uri": "https://localhost:8080/",
          "height": 299
        },
        "id": "TILJeCW3QRPt",
        "outputId": "a754d16f-af32-46ef-e701-662cef014bf7"
      },
      "source": [
        "def train_step():\n",
        "  #Tape \"tapes\" all of the calculations in it's scope\n",
        "  with tf.GradientTape(persistent=True) as tape:\n",
        "    y_pred = m*x + b\n",
        "    loss = ((y - y_pred) ** 2)\n",
        "    loss = tf.reduce_sum(loss)\n",
        "    loss = loss / NUM_EXAMPLES\n",
        "  \n",
        "  print(\n",
        "      f'Loss: {loss.numpy()}\\n'\n",
        "      f'y = {m.numpy():.2f}x + {b.numpy():.2f}'\n",
        "  )\n",
        "\n",
        "  #calculate gradients with respect to loss\n",
        "  m_gradient = tape.gradient(loss, m)\n",
        "  b_gradient = tape.gradient(loss, b)\n",
        "\n",
        "  LEARNING_RATE = 0.08\n",
        "  \n",
        "  m.assign_sub(LEARNING_RATE * m_gradient) # This is also known as gradient descent\n",
        "  b.assign_sub(LEARNING_RATE * b_gradient)\n",
        "\n",
        "\n",
        "train_step()\n",
        "plot()"
      ],
      "execution_count": null,
      "outputs": [
        {
          "output_type": "stream",
          "text": [
            "Loss: 0.08725389093160629\n",
            "y = 1.94x + 1.04\n"
          ],
          "name": "stdout"
        },
        {
          "output_type": "display_data",
          "data": {
            "image/png": "[encoded data removed]",
            "text/plain": [
              "<Figure size 432x288 with 1 Axes>"
            ]
          },
          "metadata": {
            "tags": [],
            "needs_background": "light"
          }
        }
      ]
    },
    {
      "cell_type": "code",
      "metadata": {
        "colab": {
          "base_uri": "https://localhost:8080/",
          "height": 1000
        },
        "id": "SM-Pb4qlOzLm",
        "outputId": "33e2b3f7-001a-4f3f-ad1b-48d3cb3593d6"
      },
      "source": [
        "EPOCHS = 80\n",
        "for i in range(EPOCHS):\n",
        "  train_step()\n",
        "plot()"
      ],
      "execution_count": null,
      "outputs": [
        {
          "output_type": "stream",
          "text": [
            "Loss: 0.08649612963199615\n",
            "y = 1.94x + 1.04\n",
            "Loss: 0.08578673005104065\n",
            "y = 1.94x + 1.03\n",
            "Loss: 0.08512263000011444\n",
            "y = 1.95x + 1.02\n",
            "Loss: 0.08450094610452652\n",
            "y = 1.95x + 1.02\n",
            "Loss: 0.08391895890235901\n",
            "y = 1.95x + 1.01\n",
            "Loss: 0.08337415754795074\n",
            "y = 1.96x + 1.00\n",
            "Loss: 0.08286413550376892\n",
            "y = 1.96x + 1.00\n",
            "Loss: 0.08238667994737625\n",
            "y = 1.96x + 0.99\n",
            "Loss: 0.0819397121667862\n",
            "y = 1.96x + 0.99\n",
            "Loss: 0.08152130991220474\n",
            "y = 1.97x + 0.98\n",
            "Loss: 0.08112959563732147\n",
            "y = 1.97x + 0.98\n",
            "Loss: 0.08076293021440506\n",
            "y = 1.97x + 0.97\n",
            "Loss: 0.08041965216398239\n",
            "y = 1.98x + 0.97\n",
            "Loss: 0.08009829372167587\n",
            "y = 1.98x + 0.96\n",
            "Loss: 0.07979746907949448\n",
            "y = 1.98x + 0.96\n",
            "Loss: 0.07951585203409195\n",
            "y = 1.98x + 0.95\n",
            "Loss: 0.0792522057890892\n",
            "y = 1.98x + 0.95\n",
            "Loss: 0.07900542765855789\n",
            "y = 1.99x + 0.95\n",
            "Loss: 0.07877437770366669\n",
            "y = 1.99x + 0.94\n",
            "Loss: 0.07855810225009918\n",
            "y = 1.99x + 0.94\n",
            "Loss: 0.07835562527179718\n",
            "y = 1.99x + 0.94\n",
            "Loss: 0.07816611230373383\n",
            "y = 1.99x + 0.93\n",
            "Loss: 0.07798866927623749\n",
            "y = 2.00x + 0.93\n",
            "Loss: 0.07782253623008728\n",
            "y = 2.00x + 0.93\n",
            "Loss: 0.07766706496477127\n",
            "y = 2.00x + 0.92\n",
            "Loss: 0.07752148807048798\n",
            "y = 2.00x + 0.92\n",
            "Loss: 0.07738520950078964\n",
            "y = 2.00x + 0.92\n",
            "Loss: 0.07725764811038971\n",
            "y = 2.00x + 0.91\n",
            "Loss: 0.07713820785284042\n",
            "y = 2.01x + 0.91\n",
            "Loss: 0.07702641934156418\n",
            "y = 2.01x + 0.91\n",
            "Loss: 0.07692175358533859\n",
            "y = 2.01x + 0.91\n",
            "Loss: 0.07682379335165024\n",
            "y = 2.01x + 0.90\n",
            "Loss: 0.07673205435276031\n",
            "y = 2.01x + 0.90\n",
            "Loss: 0.07664619386196136\n",
            "y = 2.01x + 0.90\n",
            "Loss: 0.07656583189964294\n",
            "y = 2.01x + 0.90\n",
            "Loss: 0.07649059593677521\n",
            "y = 2.01x + 0.89\n",
            "Loss: 0.0764201432466507\n",
            "y = 2.02x + 0.89\n",
            "Loss: 0.07635419070720673\n",
            "y = 2.02x + 0.89\n",
            "Loss: 0.07629247009754181\n",
            "y = 2.02x + 0.89\n",
            "Loss: 0.07623469084501266\n",
            "y = 2.02x + 0.89\n",
            "Loss: 0.0761805921792984\n",
            "y = 2.02x + 0.88\n",
            "Loss: 0.07612994313240051\n",
            "y = 2.02x + 0.88\n",
            "Loss: 0.07608253508806229\n",
            "y = 2.02x + 0.88\n",
            "Loss: 0.07603814452886581\n",
            "y = 2.02x + 0.88\n",
            "Loss: 0.07599660754203796\n",
            "y = 2.02x + 0.88\n",
            "Loss: 0.07595770061016083\n",
            "y = 2.02x + 0.88\n",
            "Loss: 0.07592131197452545\n",
            "y = 2.02x + 0.87\n",
            "Loss: 0.07588720321655273\n",
            "y = 2.03x + 0.87\n",
            "Loss: 0.07585529237985611\n",
            "y = 2.03x + 0.87\n",
            "Loss: 0.07582543045282364\n",
            "y = 2.03x + 0.87\n",
            "Loss: 0.07579746842384338\n",
            "y = 2.03x + 0.87\n",
            "Loss: 0.0757712870836258\n",
            "y = 2.03x + 0.87\n",
            "Loss: 0.07574678957462311\n",
            "y = 2.03x + 0.87\n",
            "Loss: 0.07572385668754578\n",
            "y = 2.03x + 0.86\n",
            "Loss: 0.07570238411426544\n",
            "y = 2.03x + 0.86\n",
            "Loss: 0.07568228244781494\n",
            "y = 2.03x + 0.86\n",
            "Loss: 0.07566343992948532\n",
            "y = 2.03x + 0.86\n",
            "Loss: 0.07564583420753479\n",
            "y = 2.03x + 0.86\n",
            "Loss: 0.075629323720932\n",
            "y = 2.03x + 0.86\n",
            "Loss: 0.07561388611793518\n",
            "y = 2.03x + 0.86\n",
            "Loss: 0.07559945434331894\n",
            "y = 2.03x + 0.86\n",
            "Loss: 0.07558592408895493\n",
            "y = 2.03x + 0.86\n",
            "Loss: 0.07557324320077896\n",
            "y = 2.03x + 0.86\n",
            "Loss: 0.07556140422821045\n",
            "y = 2.04x + 0.85\n",
            "Loss: 0.07555027306079865\n",
            "y = 2.04x + 0.85\n",
            "Loss: 0.07553987950086594\n",
            "y = 2.04x + 0.85\n",
            "Loss: 0.07553017139434814\n",
            "y = 2.04x + 0.85\n",
            "Loss: 0.0755210742354393\n",
            "y = 2.04x + 0.85\n",
            "Loss: 0.07551252841949463\n",
            "y = 2.04x + 0.85\n",
            "Loss: 0.07550454139709473\n",
            "y = 2.04x + 0.85\n",
            "Loss: 0.07549707591533661\n",
            "y = 2.04x + 0.85\n",
            "Loss: 0.0754900798201561\n",
            "y = 2.04x + 0.85\n",
            "Loss: 0.0754835456609726\n",
            "y = 2.04x + 0.85\n",
            "Loss: 0.07547739893198013\n",
            "y = 2.04x + 0.85\n",
            "Loss: 0.0754716694355011\n",
            "y = 2.04x + 0.85\n",
            "Loss: 0.07546628266572952\n",
            "y = 2.04x + 0.85\n",
            "Loss: 0.07546126842498779\n",
            "y = 2.04x + 0.85\n",
            "Loss: 0.07545656710863113\n",
            "y = 2.04x + 0.85\n",
            "Loss: 0.07545214146375656\n",
            "y = 2.04x + 0.84\n",
            "Loss: 0.07544802129268646\n",
            "y = 2.04x + 0.84\n"
          ],
          "name": "stdout"
        },
        {
          "output_type": "display_data",
          "data": {
            "image/png": "[encoded data removed]",
            "text/plain": [
              "<Figure size 432x288 with 1 Axes>"
            ]
          },
          "metadata": {
            "tags": [],
            "needs_background": "light"
          }
        }
      ]
    }
  ]
}